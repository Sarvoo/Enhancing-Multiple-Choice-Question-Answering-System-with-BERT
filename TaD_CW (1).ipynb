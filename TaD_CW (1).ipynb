{
  "cells": [
    {
      "cell_type": "markdown",
      "metadata": {
        "id": "UCzTNjU-9oaq"
      },
      "source": [
        "# **Dataset and Pre-Processing**"
      ]
    },
    {
      "cell_type": "code",
      "execution_count": null,
      "metadata": {
        "colab": {
          "base_uri": "https://localhost:8080/"
        },
        "id": "I7DYWfq6607z",
        "outputId": "a237b532-3f20-48ef-ef49-00ee049e013c"
      },
      "outputs": [
        {
          "output_type": "stream",
          "name": "stdout",
          "text": [
            "741\n",
            "202\n",
            "103\n"
          ]
        }
      ],
      "source": [
        "import json\n",
        "\n",
        "with open('/content/drive/MyDrive/wikiqa_coursework_dataset/coursework_dataset/train.json') as train_file:\n",
        "  train_contents = json.load(train_file)\n",
        "\n",
        "with open('/content/drive/MyDrive/wikiqa_coursework_dataset/coursework_dataset/test.json') as test_file:\n",
        "  test_contents = json.load(test_file)\n",
        "\n",
        "with open('/content/drive/MyDrive/wikiqa_coursework_dataset/coursework_dataset/val.json') as val_file:\n",
        "  val_contents = json.load(val_file)\n",
        "\n",
        "print(len(train_contents))\n",
        "print(len(test_contents))\n",
        "print(len(val_contents))"
      ]
    },
    {
      "cell_type": "code",
      "source": [
        "from google.colab import drive\n",
        "drive.mount('/content/drive')"
      ],
      "metadata": {
        "colab": {
          "base_uri": "https://localhost:8080/"
        },
        "id": "U7a6NkcvvqCL",
        "outputId": "6d85e751-3144-449e-aa82-fd01fbf3c0a9"
      },
      "execution_count": null,
      "outputs": [
        {
          "output_type": "stream",
          "name": "stdout",
          "text": [
            "Drive already mounted at /content/drive; to attempt to forcibly remount, call drive.mount(\"/content/drive\", force_remount=True).\n"
          ]
        }
      ]
    },
    {
      "cell_type": "code",
      "execution_count": null,
      "metadata": {
        "colab": {
          "base_uri": "https://localhost:8080/"
        },
        "id": "ALzHDNcT9g1O",
        "outputId": "6f5ceff5-b59c-4cb0-d845-acd4457eecd8"
      },
      "outputs": [
        {
          "output_type": "execute_result",
          "data": {
            "text/plain": [
              "{'question': 'how are glacier caves formed?',\n",
              " 'options': ['The ice facade is approximately 60 m high',\n",
              "  'A partly submerged glacier cave on Perito Moreno Glacier .',\n",
              "  'Ice formations in the Titlis glacier cave',\n",
              "  'A glacier cave is a cave formed within the ice of a glacier .'],\n",
              " 'correct_index': 3}"
            ]
          },
          "metadata": {},
          "execution_count": 3
        }
      ],
      "source": [
        "#What train looks like\n",
        "train_contents[0]"
      ]
    },
    {
      "cell_type": "markdown",
      "metadata": {
        "id": "hRYt9gDeKxWS"
      },
      "source": [
        "### **(1.1) How many questions and options are there in each split? [1 mark]**\n"
      ]
    },
    {
      "cell_type": "code",
      "execution_count": null,
      "metadata": {
        "colab": {
          "base_uri": "https://localhost:8080/"
        },
        "id": "rRruG8ULKsqM",
        "outputId": "f6b99c0a-f6ae-4191-b245-71391c71f808"
      },
      "outputs": [
        {
          "output_type": "stream",
          "name": "stdout",
          "text": [
            "For training dataset\n",
            "Number of questions: 741\n",
            "Number of options: 2964\n",
            "\n",
            "\n",
            "For testing dataset\n",
            "Number of questions: 202\n",
            "Number of options: 808\n",
            "\n",
            "\n",
            "For validation dataset\n",
            "Number of questions: 103\n",
            "Number of options: 412\n"
          ]
        }
      ],
      "source": [
        "def que_opt_split(dataset):\n",
        "  print(f\"Number of questions: {len(dataset)}\")\n",
        "  options=sum(len(i['options'])for i in dataset)\n",
        "  print(f\"Number of options: {options}\")\n",
        "\n",
        "print(\"For training dataset\")\n",
        "que_opt_split(train_contents)\n",
        "print('\\n')\n",
        "print(\"For testing dataset\")\n",
        "que_opt_split(test_contents)\n",
        "print('\\n')\n",
        "print(\"For validation dataset\")\n",
        "que_opt_split(val_contents)"
      ]
    },
    {
      "cell_type": "markdown",
      "metadata": {
        "id": "cQKXxHFLNuT3"
      },
      "source": [
        "### **(1.2) What is the average number of tokens per question in the training set? [1 mark]**"
      ]
    },
    {
      "cell_type": "code",
      "execution_count": null,
      "metadata": {
        "colab": {
          "base_uri": "https://localhost:8080/"
        },
        "id": "EGaGDFP6NtjG",
        "outputId": "26486701-ed9d-445b-e9a4-4ae35cca41af"
      },
      "outputs": [
        {
          "output_type": "stream",
          "name": "stdout",
          "text": [
            "Average number of tokens per question in the training set: 6.273\n"
          ]
        }
      ],
      "source": [
        "import spacy\n",
        "\n",
        "nlp = spacy.load(\"en_core_web_sm\")\n",
        "\n",
        "def text_pipeline_spacy_special(text):\n",
        "  tokens = []\n",
        "  doc = nlp(text)\n",
        "  for t in doc:\n",
        "    if not t.is_punct and not t.is_space: # what we removed: \"not t.is_stop and\"\n",
        "      tokens.append(t.text.lower()) # what we changed: t.text instead of t.lemma_\n",
        "  return tokens\n",
        "\n",
        "count=[]\n",
        "\n",
        "for t in train_contents:\n",
        "  token=text_pipeline_spacy_special(t['question'])#\n",
        "  count.append(len(token))\n",
        "\n",
        "avg_tokens= sum(count)/len(count)\n",
        "\n",
        "print(f\"Average number of tokens per question in the training set: {round(avg_tokens,3)}\")"
      ]
    },
    {
      "cell_type": "markdown",
      "metadata": {
        "id": "az_0VxxI8nST"
      },
      "source": [
        "### **(1.3) What is the average number of tokens per choice in the training set? [1 mark]**"
      ]
    },
    {
      "cell_type": "code",
      "execution_count": null,
      "metadata": {
        "colab": {
          "base_uri": "https://localhost:8080/"
        },
        "id": "6rZRQn1R8uXy",
        "outputId": "3ef898c5-2318-4095-a1be-9aff480c2556"
      },
      "outputs": [
        {
          "output_type": "stream",
          "name": "stdout",
          "text": [
            "Average number of tokens per choice in the training set: 22.338\n"
          ]
        }
      ],
      "source": [
        "count=[]\n",
        "\n",
        "for t in train_contents:\n",
        "  options=t['options']\n",
        "  for option in options:\n",
        "    token=text_pipeline_spacy_special(option)\n",
        "    count.append(len(token))\n",
        "\n",
        "avg_tokens= sum(count)/len(count)\n",
        "\n",
        "print(f\"Average number of tokens per choice in the training set: {round(avg_tokens,3)}\")"
      ]
    },
    {
      "cell_type": "markdown",
      "metadata": {
        "id": "0l6_-YEE-F8B"
      },
      "source": [
        "### **(1.4) What is the average number of tokens per correct choice in the training set? [1 mark]**\n"
      ]
    },
    {
      "cell_type": "code",
      "execution_count": null,
      "metadata": {
        "colab": {
          "base_uri": "https://localhost:8080/"
        },
        "id": "dROeMtlR8uei",
        "outputId": "96b3d05a-8da3-4228-f64d-724213d2f7e5"
      },
      "outputs": [
        {
          "output_type": "stream",
          "name": "stdout",
          "text": [
            "Average number of tokens per correct choice in the training set: 26.032\n"
          ]
        }
      ],
      "source": [
        "count=[]\n",
        "\n",
        "for t in train_contents:\n",
        "  correct_choices=t['correct_index']\n",
        "  option=t['options'][correct_choices]\n",
        "  token=text_pipeline_spacy_special(option)\n",
        "  count.append(len(token))\n",
        "\n",
        "\n",
        "avg_tokens= sum(count)/len(count)\n",
        "\n",
        "print(f\"Average number of tokens per correct choice in the training set: {round(avg_tokens,3)}\")"
      ]
    },
    {
      "cell_type": "markdown",
      "metadata": {
        "id": "j7sj3jpxhoKd"
      },
      "source": [
        "### **(1.5) Perform any additional exploration of the data that you feel would be helpful for this multiple-choice question-answering task. Briefly describe what you found. [4 marks]**"
      ]
    },
    {
      "cell_type": "code",
      "execution_count": null,
      "metadata": {
        "id": "K6Wtt18PdBJR"
      },
      "outputs": [],
      "source": [
        "import pandas as pd\n",
        "import matplotlib.pyplot as plt\n",
        "import seaborn as sns\n",
        "\n",
        "# Convert the list of dictionaries to a DataFrame\n",
        "train_data = pd.DataFrame(train_contents)\n",
        "\n",
        "# Tokenization and data preparation (you need to adjust this based on your actual tokenizer)\n",
        "train_data['tokenized_questions'] = train_data['question'].apply(lambda q: q.split())  # Simple split, replace with your tokenizer\n",
        "train_data['tokenized_options'] = train_data['options'].apply(lambda opts: [opt.split() for opt in opts])  # Tokenizing each option"
      ]
    },
    {
      "cell_type": "code",
      "execution_count": null,
      "metadata": {
        "colab": {
          "base_uri": "https://localhost:8080/",
          "height": 564
        },
        "id": "NGn1q3h5hnQa",
        "outputId": "e034bdea-d4a3-4b3d-94ef-459b0c6adb05"
      },
      "outputs": [
        {
          "output_type": "display_data",
          "data": {
            "text/plain": [
              "<Figure size 1000x600 with 1 Axes>"
            ],
            "image/png": "[encoded data removed]"
          },
          "metadata": {}
        }
      ],
      "source": [
        "data=train_data\n",
        "# Distribution of question lengths\n",
        "data['question_length'] = data['tokenized_questions'].apply(len)\n",
        "plt.figure(figsize=(10, 6))\n",
        "sns.histplot(data['question_length'], bins=30, kde=True)\n",
        "plt.title('Distribution of Question Lengths')\n",
        "plt.xlabel('Number of Tokens')\n",
        "plt.ylabel('Frequency')\n",
        "plt.show()\n"
      ]
    },
    {
      "cell_type": "code",
      "execution_count": null,
      "metadata": {
        "colab": {
          "base_uri": "https://localhost:8080/",
          "height": 747
        },
        "id": "JzYj59IPdUZf",
        "outputId": "ea5c9106-fb96-482a-fc01-0734efbc2128"
      },
      "outputs": [
        {
          "output_type": "display_data",
          "data": {
            "text/plain": [
              "<Figure size 1200x800 with 1 Axes>"
            ],
            "image/png": "[encoded data removed]"
          },
          "metadata": {}
        }
      ],
      "source": [
        "# Frequency of words in the questions\n",
        "all_words = [word for tokens in data['tokenized_questions'] for word in tokens]\n",
        "word_freq = pd.Series(all_words).value_counts().head(20)\n",
        "plt.figure(figsize=(12, 8))\n",
        "word_freq.plot(kind='bar', color='red')\n",
        "plt.title('Top 20 Most Frequent Words in Questions')\n",
        "plt.xlabel('Words')\n",
        "plt.ylabel('Frequency')\n",
        "plt.show()"
      ]
    },
    {
      "cell_type": "code",
      "execution_count": null,
      "metadata": {
        "id": "jm5RekuAd2MX"
      },
      "outputs": [],
      "source": [
        "import pandas as pd\n",
        "from sklearn.feature_extraction.text import CountVectorizer\n",
        "import matplotlib.pyplot as plt\n",
        "import seaborn as sns\n",
        "\n",
        "\n",
        "def get_top_ngrams(corpus, n=None, ngrams=2):\n",
        "    vec = CountVectorizer(ngram_range=(ngrams, ngrams), stop_words='english').fit(corpus)\n",
        "    bag_of_words = vec.transform(corpus)\n",
        "    sum_words = bag_of_words.sum(axis=0)\n",
        "    words_freq = [(word, sum_words[0, idx]) for word, idx in vec.vocabulary_.items()]\n",
        "    words_freq = sorted(words_freq, key=lambda x: x[1], reverse=True)\n",
        "    return pd.DataFrame(words_freq[:n], columns=['ngram', 'count'])"
      ]
    },
    {
      "cell_type": "code",
      "execution_count": null,
      "metadata": {
        "colab": {
          "base_uri": "https://localhost:8080/",
          "height": 564
        },
        "id": "YqdzJLpI6EeT",
        "outputId": "381affa6-aaef-4966-f65f-68fa3b16c352"
      },
      "outputs": [
        {
          "output_type": "display_data",
          "data": {
            "text/plain": [
              "<Figure size 1000x600 with 1 Axes>"
            ],
            "image/png": "[encoded data removed]"
          },
          "metadata": {}
        }
      ],
      "source": [
        "# Generate top 10 bigrams\n",
        "top_bigrams = get_top_ngrams(train_data['question'], n=10, ngrams=2)\n",
        "\n",
        "# Plotting the top bigrams\n",
        "plt.figure(figsize=(10, 6))\n",
        "sns.barplot(x='count', y='ngram', data=top_bigrams,color='green')\n",
        "plt.title('Top 10 Bigrams')\n",
        "plt.xlabel('Count')\n",
        "plt.ylabel('Bigram')\n",
        "\n",
        "plt.show()\n"
      ]
    },
    {
      "cell_type": "code",
      "execution_count": null,
      "metadata": {
        "colab": {
          "base_uri": "https://localhost:8080/",
          "height": 564
        },
        "id": "1615H3s3eRQf",
        "outputId": "b9224e9a-f22d-4605-f41f-7886147f0afd"
      },
      "outputs": [
        {
          "output_type": "display_data",
          "data": {
            "text/plain": [
              "<Figure size 1000x600 with 1 Axes>"
            ],
            "image/png": "[encoded data removed]"
          },
          "metadata": {}
        }
      ],
      "source": [
        "# Generate top 10 trigrams\n",
        "top_trigrams = get_top_ngrams(train_data['question'], n=10, ngrams=3)\n",
        "\n",
        "# Plotting the top trigrams\n",
        "plt.figure(figsize=(10, 6))\n",
        "sns.barplot(x='count', y='ngram', data=top_trigrams, color= 'purple')\n",
        "plt.title('Top 10 Trigrams')\n",
        "plt.xlabel('Count')\n",
        "plt.ylabel('Trigram')\n",
        "\n",
        "plt.show()"
      ]
    },
    {
      "cell_type": "markdown",
      "metadata": {
        "id": "-F4AUGuK0iSA"
      },
      "source": [
        "# **Q2 - Set Similarity Measures [10 marks]**\n"
      ]
    },
    {
      "cell_type": "markdown",
      "metadata": {
        "id": "2eTlbCJT0i7n"
      },
      "source": [
        "### **(2.1) Report the performance of each similarity measure (overlap coefficient, Sorensen-Dice & Jaccard) on the training and validation sets by measuring accuracy. [6 marks]**"
      ]
    },
    {
      "cell_type": "code",
      "execution_count": null,
      "metadata": {
        "colab": {
          "base_uri": "https://localhost:8080/"
        },
        "id": "8Sw8pIwM0jVq",
        "outputId": "624d412d-fbb4-45d5-b239-a53d5360a02e"
      },
      "outputs": [
        {
          "output_type": "stream",
          "name": "stdout",
          "text": [
            "similarity measure overlap_coefficient training accuracy :0.664\n",
            "similarity measure sorenson_dice training accuracy :0.443\n",
            "similarity measure jaccard_similarity training accuracy :0.443\n",
            "similarity measure overlap_coefficient validation accuracy :0.621\n",
            "similarity measure sorenson_dice validation accuracy :0.359\n",
            "similarity measure jaccard_similarity validation accuracy :0.359\n"
          ]
        }
      ],
      "source": [
        "def overlap_coefficient(tokens_X,tokens_Y):\n",
        "  tokens_X = set(tokens_X)\n",
        "  tokens_Y = set(tokens_Y)\n",
        "  intersection = tokens_X.intersection(tokens_Y)\n",
        "  return len(intersection) / min(len(tokens_X),len(tokens_Y))\n",
        "\n",
        "def sorenson_dice(tokens_X,tokens_Y):\n",
        "  tokens_X = set(tokens_X)\n",
        "  tokens_Y = set(tokens_Y)\n",
        "  intersection = tokens_X.intersection(tokens_Y)\n",
        "  return 2 * len(intersection) / (len(tokens_X) + len(tokens_Y))\n",
        "\n",
        "def jaccard_similarity(tokens_X,tokens_Y):\n",
        "  tokens_X = set(tokens_X)\n",
        "  tokens_Y = set(tokens_Y)\n",
        "  intersection = tokens_X.intersection(tokens_Y)\n",
        "  union = tokens_X.union(tokens_Y)\n",
        "  return len(intersection) / len(union)\n",
        "\n",
        "def compute_accuracy(predictions, labels):\n",
        "    correct = sum(pred == label for pred, label in zip(predictions, labels))\n",
        "    total = len(labels)\n",
        "    return correct / total\n",
        "\n",
        "def contents(data):\n",
        "  for similarity_measure in [overlap_coefficient,sorenson_dice,jaccard_similarity]:\n",
        "    max_coeffs=[]\n",
        "    correct_all_coeff=[]\n",
        "    for t in data:\n",
        "      question_token=text_pipeline_spacy_special(t['question'])#\n",
        "      options=t['options']\n",
        "      max_coeff=0\n",
        "      all_coeff=[]\n",
        "      for option in options:\n",
        "        option_token=text_pipeline_spacy_special(option)\n",
        "        curr_coeff=similarity_measure(question_token, option_token)\n",
        "        all_coeff.append(curr_coeff)\n",
        "        max_coeff = max(max_coeff, curr_coeff)\n",
        "      max_coeffs.append(max_coeff)\n",
        "      correct_choices=t['correct_index']\n",
        "      correct_choice=t['options'][correct_choices]\n",
        "      correct_choices_option=text_pipeline_spacy_special(correct_choice)\n",
        "      correct_curr_coeff=similarity_measure(question_token, correct_choices_option)\n",
        "      correct_all_coeff.append(correct_curr_coeff)\n",
        "\n",
        "    accuracy = compute_accuracy(max_coeffs, correct_all_coeff)\n",
        "\n",
        "    if data==train_contents:\n",
        "      d=\"training\"\n",
        "    else:\n",
        "      d=\"validation\"\n",
        "    print(f\"similarity measure {similarity_measure.__name__} {d} accuracy :{round(accuracy,3)}\")\n",
        "\n",
        "contents(train_contents)\n",
        "contents(val_contents)"
      ]
    },
    {
      "cell_type": "markdown",
      "metadata": {
        "id": "hb0wG2q14OvI"
      },
      "source": [
        "### **(2.2) For each similarity measure, how many times was the score of the most similar answer tied with another answer? When there was a tied score among the top answers, how did you choose which to select? Why? [4 marks]**"
      ]
    },
    {
      "cell_type": "code",
      "execution_count": null,
      "metadata": {
        "colab": {
          "base_uri": "https://localhost:8080/"
        },
        "id": "vOE1Z4FY1cdZ",
        "outputId": "6bbc3eaa-0dd8-424b-97bb-263ff28b7920"
      },
      "outputs": [
        {
          "output_type": "stream",
          "name": "stdout",
          "text": [
            "similarity measure overlap_coefficient training ties count: 246\n",
            "similarity measure sorenson_dice training ties count: 20\n",
            "similarity measure jaccard_similarity training ties count: 20\n",
            "similarity measure overlap_coefficient validation ties count: 29\n",
            "similarity measure sorenson_dice validation ties count: 4\n",
            "similarity measure jaccard_similarity validation ties count: 4\n"
          ]
        }
      ],
      "source": [
        "import random\n",
        "\n",
        "def contents_with_random_tie_break(data):\n",
        "    for similarity_measure in [overlap_coefficient, sorenson_dice, jaccard_similarity]:\n",
        "        ties_count = 0\n",
        "        for t in data:\n",
        "            question_token = text_pipeline_spacy_special(t['question'])\n",
        "            options = t['options']\n",
        "            max_coeff = 0\n",
        "            all_coeff = []\n",
        "            for option in options:\n",
        "                option_token = text_pipeline_spacy_special(option)\n",
        "                curr_coeff = similarity_measure(question_token, option_token)\n",
        "                all_coeff.append(curr_coeff)\n",
        "                max_coeff = max(max_coeff, curr_coeff)\n",
        "            max_coeffs_count = all_coeff.count(max_coeff)\n",
        "            if max_coeffs_count > 1:\n",
        "                ties_count += 1\n",
        "                # Randomly select one of the tied scores as the selected answer\n",
        "                max_indices = [i for i, coeff in enumerate(all_coeff) if coeff == max_coeff]\n",
        "                selected_index = random.choice(max_indices)\n",
        "            else:\n",
        "                selected_index = all_coeff.index(max_coeff)\n",
        "\n",
        "            correct_choices = t['correct_index']\n",
        "            correct_choice = t['options'][correct_choices]\n",
        "            correct_choices_option = text_pipeline_spacy_special(correct_choice)\n",
        "            correct_curr_coeff = similarity_measure(question_token, correct_choices_option)\n",
        "\n",
        "        if data == train_contents:\n",
        "            d = \"training\"\n",
        "        else:\n",
        "            d = \"validation\"\n",
        "        print(f\"similarity measure {similarity_measure.__name__} {d} ties count: {ties_count}\")\n",
        "\n",
        "contents_with_random_tie_break(train_contents)\n",
        "contents_with_random_tie_break(val_contents)\n"
      ]
    },
    {
      "cell_type": "code",
      "execution_count": null,
      "metadata": {
        "colab": {
          "base_uri": "https://localhost:8080/"
        },
        "id": "zH7-0nd9IcCD",
        "outputId": "a8b7a3d3-f61e-4b8e-b8d6-b86a311d5b74"
      },
      "outputs": [
        {
          "output_type": "stream",
          "name": "stdout",
          "text": [
            "similarity measure overlap_coefficient training accuracy :0.524\n",
            "similarity measure sorenson_dice training accuracy :0.429\n",
            "similarity measure jaccard_similarity training accuracy :0.428\n",
            "similarity measure overlap_coefficient validation accuracy :0.456\n",
            "similarity measure sorenson_dice validation accuracy :0.359\n",
            "similarity measure jaccard_similarity validation accuracy :0.359\n"
          ]
        }
      ],
      "source": [
        "import random\n",
        "\n",
        "def contents_with_accuracy(data):\n",
        "    for similarity_measure in [overlap_coefficient, sorenson_dice, jaccard_similarity]:\n",
        "        predictions = []\n",
        "        labels = []\n",
        "        for t in data:\n",
        "            question_token = text_pipeline_spacy_special(t['question'])\n",
        "            options = t['options']\n",
        "            max_coeff = 0\n",
        "            all_coeff = []\n",
        "            for option in options:\n",
        "                option_token = text_pipeline_spacy_special(option)\n",
        "                curr_coeff = similarity_measure(question_token, option_token)\n",
        "                all_coeff.append(curr_coeff)\n",
        "                max_coeff = max(max_coeff, curr_coeff)\n",
        "            max_coeffs_count = all_coeff.count(max_coeff)\n",
        "            if max_coeffs_count > 1:\n",
        "                # Randomly select one of the tied scores as the selected answer\n",
        "                max_indices = [i for i, coeff in enumerate(all_coeff) if coeff == max_coeff]\n",
        "                selected_index = random.choice(max_indices)\n",
        "            else:\n",
        "                selected_index = all_coeff.index(max_coeff)\n",
        "\n",
        "            correct_choices = t['correct_index']\n",
        "            predictions.append(selected_index)\n",
        "            labels.append(correct_choices)\n",
        "\n",
        "        accuracy = compute_accuracy(predictions, labels)\n",
        "\n",
        "        if data == train_contents:\n",
        "            d = \"training\"\n",
        "        else:\n",
        "            d = \"validation\"\n",
        "        print(f\"similarity measure {similarity_measure.__name__} {d} accuracy :{round(accuracy,3)}\")\n",
        "\n",
        "contents_with_accuracy(train_contents)\n",
        "contents_with_accuracy(val_contents)\n"
      ]
    },
    {
      "cell_type": "markdown",
      "metadata": {
        "id": "2HfxkTKEIemd"
      },
      "source": [
        "# **Q3 - Cosine similarity of TF vectors [12 marks]**"
      ]
    },
    {
      "cell_type": "markdown",
      "metadata": {
        "id": "Yo47bHNhIn8V"
      },
      "source": [
        "### **(3.1) Report the performance of the training and validation sets by measuring accuracy. Discuss how they compare with the set similarity measures from Q2. [6 marks]**\n"
      ]
    },
    {
      "cell_type": "code",
      "execution_count": null,
      "metadata": {
        "colab": {
          "base_uri": "https://localhost:8080/"
        },
        "id": "UOPmayJRNtqk",
        "outputId": "13571e17-4a1f-41b8-8c4d-feb11d3a1a50"
      },
      "outputs": [
        {
          "output_type": "stream",
          "name": "stderr",
          "text": [
            "/usr/local/lib/python3.10/dist-packages/sklearn/feature_extraction/text.py:528: UserWarning: The parameter 'token_pattern' will not be used since 'tokenizer' is not None'\n",
            "  warnings.warn(\n"
          ]
        },
        {
          "output_type": "stream",
          "name": "stdout",
          "text": [
            "Training set accuracy based on cosine similarity: 0.4399\n",
            "Validation set accuracy based on cosine similarity: 0.4466\n"
          ]
        }
      ],
      "source": [
        "from sklearn.feature_extraction.text import CountVectorizer\n",
        "from sklearn.metrics.pairwise import cosine_similarity\n",
        "\n",
        "# Tokenization function\n",
        "def text_pipeline_spacy_special(text):\n",
        "    tokens = []\n",
        "    doc = nlp(text)\n",
        "    for t in doc:\n",
        "        if not t.is_punct and not t.is_space:\n",
        "            tokens.append(t.text.lower())\n",
        "    return tokens\n",
        "\n",
        "# Function to generate TF vectors\n",
        "def generate_tf_vectors(data):\n",
        "    questions = [t['question'] for t in data]\n",
        "    answers = [option for t in data for option in t['options']]\n",
        "\n",
        "    vectorizer = CountVectorizer(tokenizer=text_pipeline_spacy_special)\n",
        "    question_vectors = vectorizer.fit_transform(questions)\n",
        "    answer_vectors = vectorizer.transform(answers)\n",
        "\n",
        "    return question_vectors, answer_vectors\n",
        "\n",
        "# Function to compute accuracy based on cosine similarity\n",
        "def compute_accuracy_cosine(question_vectors, answer_vectors, data):\n",
        "    correct = 0\n",
        "    total = len(data)\n",
        "\n",
        "    for i, t in enumerate(data):\n",
        "        question_vector = question_vectors[i]\n",
        "        options = t['options']\n",
        "        correct_choice_index = t['correct_index']\n",
        "        correct_choice_vector = answer_vectors[4*i + correct_choice_index]\n",
        "\n",
        "        max_similarity = -1\n",
        "        predicted_index = -1\n",
        "        for j, option in enumerate(options):\n",
        "            option_vector = answer_vectors[4*i + j]\n",
        "            similarity = cosine_similarity(question_vector, option_vector)\n",
        "            if similarity > max_similarity:\n",
        "                max_similarity = similarity\n",
        "                predicted_index = j\n",
        "\n",
        "        if predicted_index == correct_choice_index:\n",
        "            correct += 1\n",
        "\n",
        "    accuracy = correct / total\n",
        "    return accuracy\n",
        "\n",
        "# Generate TF vectors for training and validation sets\n",
        "train_question_vectors, train_answer_vectors = generate_tf_vectors(train_contents)\n",
        "val_question_vectors, val_answer_vectors = generate_tf_vectors(val_contents)\n",
        "\n",
        "# Compute accuracy for training and validation sets\n",
        "train_accuracy = compute_accuracy_cosine(train_question_vectors, train_answer_vectors, train_contents)\n",
        "val_accuracy = compute_accuracy_cosine(val_question_vectors, val_answer_vectors, val_contents)\n",
        "\n",
        "print(f\"Training set accuracy based on cosine similarity: {round(train_accuracy,4)}\")\n",
        "print(f\"Validation set accuracy based on cosine similarity: {round(val_accuracy,4)}\")\n"
      ]
    },
    {
      "cell_type": "markdown",
      "metadata": {
        "id": "21leezsZQoHi"
      },
      "source": [
        "### **(3.2) Propose, motivate, and evaluate one modification to this process to improve this method. Report the performance on the training and development sets and compare them with the unmodified version. [6 marks]**"
      ]
    },
    {
      "cell_type": "code",
      "execution_count": null,
      "metadata": {
        "colab": {
          "base_uri": "https://localhost:8080/"
        },
        "id": "57BLivO0RqIj",
        "outputId": "13475924-c486-4ede-8591-20968368da90"
      },
      "outputs": [
        {
          "output_type": "stream",
          "name": "stdout",
          "text": [
            "Training set accuracy based on cosine similarity with TF-IDF: 0.4359\n",
            "Validation set accuracy based on cosine similarity with TF-IDF: 0.4466\n"
          ]
        }
      ],
      "source": [
        "from sklearn.feature_extraction.text import TfidfVectorizer\n",
        "\n",
        "def generate_tfidf_vectors(data):\n",
        "    questions = [t['question'] for t in data]\n",
        "    answers = [option for t in data for option in t['options']]\n",
        "\n",
        "    vectorizer = TfidfVectorizer(tokenizer=text_pipeline_spacy_special)\n",
        "    question_vectors = vectorizer.fit_transform(questions)\n",
        "    answer_vectors = vectorizer.transform(answers)\n",
        "\n",
        "    return question_vectors, answer_vectors\n",
        "\n",
        "train_question_vectors_tfidf, train_answer_vectors_tfidf = generate_tfidf_vectors(train_contents)\n",
        "val_question_vectors_tfidf, val_answer_vectors_tfidf = generate_tfidf_vectors(val_contents)\n",
        "\n",
        "train_accuracy_tfidf = compute_accuracy_cosine(train_question_vectors_tfidf, train_answer_vectors_tfidf, train_contents)\n",
        "val_accuracy_tfidf = compute_accuracy_cosine(val_question_vectors_tfidf, val_answer_vectors_tfidf, val_contents)\n",
        "\n",
        "print(f\"Training set accuracy based on cosine similarity with TF-IDF: {round(train_accuracy_tfidf,4)}\")\n",
        "print(f\"Validation set accuracy based on cosine similarity with TF-IDF: {round(val_accuracy_tfidf,4)}\")\n"
      ]
    },
    {
      "cell_type": "markdown",
      "metadata": {
        "id": "uvRc3OanQhga"
      },
      "source": [
        "# **Q4 - Cosine similarity of vectors from bert-base-uncased [12 marks]**"
      ]
    },
    {
      "cell_type": "markdown",
      "metadata": {
        "id": "52KCL2e4Qo2l"
      },
      "source": [
        "### **(4.1) Report the performance of the training and validation sets by measuring accuracy. [8 marks]**"
      ]
    },
    {
      "cell_type": "code",
      "execution_count": null,
      "metadata": {
        "id": "O5jGKslWJSw0",
        "colab": {
          "base_uri": "https://localhost:8080/"
        },
        "outputId": "c629e3af-b6f0-4eac-a804-efbca3e778d2"
      },
      "outputs": [
        {
          "output_type": "stream",
          "name": "stderr",
          "text": [
            "/usr/local/lib/python3.10/dist-packages/huggingface_hub/utils/_token.py:88: UserWarning: \n",
            "The secret `HF_TOKEN` does not exist in your Colab secrets.\n",
            "To authenticate with the Hugging Face Hub, create a token in your settings tab (https://huggingface.co/settings/tokens), set it as secret in your Google Colab and restart your session.\n",
            "You will be able to reuse this secret in all of your notebooks.\n",
            "Please note that authentication is recommended but still optional to access public models or datasets.\n",
            "  warnings.warn(\n"
          ]
        },
        {
          "output_type": "stream",
          "name": "stdout",
          "text": [
            "Training set accuracy based on cosine similarity with BERT vectors: 0.143\n",
            "Validation set accuracy based on cosine similarity with BERT vectors: 0.204\n"
          ]
        }
      ],
      "source": [
        "from transformers import BertTokenizer, BertModel\n",
        "from sklearn.metrics.pairwise import cosine_similarity\n",
        "import torch\n",
        "\n",
        "# Load pre-trained BERT model and tokenizer\n",
        "tokenizer = BertTokenizer.from_pretrained('bert-base-uncased')\n",
        "model = BertModel.from_pretrained('bert-base-uncased')\n",
        "\n",
        "\n",
        "# Function to generate BERT context vectors\n",
        "def generate_bert_vectors(data):\n",
        "    question_vectors = []\n",
        "    answer_vectors = []\n",
        "\n",
        "    for entry in data:\n",
        "        question = entry['question']\n",
        "        options = entry['options']\n",
        "\n",
        "        # Tokenize question\n",
        "        question_tokens = tokenizer.encode(question, add_special_tokens=True, return_tensors='pt')\n",
        "\n",
        "        # Tokenize all options together\n",
        "        options_tokens = tokenizer(options, add_special_tokens=True, return_tensors='pt', padding=True, truncation=True)\n",
        "\n",
        "        # Generate BERT embeddings\n",
        "        with torch.no_grad():\n",
        "            question_output = model(question_tokens)[0][:, 0, :]  # Extract CLS token representations\n",
        "            answer_output = model(**options_tokens)[0][:, 0, :]   # Extract CLS token representations\n",
        "\n",
        "        # Ensure question_output and answer_output are tensors\n",
        "        if not isinstance(question_output, torch.Tensor) or not isinstance(answer_output, torch.Tensor):\n",
        "            raise ValueError(\"Expected question_output and answer_output to be tensors.\")\n",
        "\n",
        "        # Convert tensors to numpy arrays\n",
        "        question_cls_np = question_output.numpy()\n",
        "        answer_cls_np = answer_output.numpy()\n",
        "\n",
        "        question_vectors.append(question_cls_np)\n",
        "        answer_vectors.append(answer_cls_np)\n",
        "\n",
        "    return question_vectors, answer_vectors\n",
        "\n",
        "\n",
        "\n",
        "# Function to compute accuracy based on cosine similarity\n",
        "def compute_accuracy_cosine_bert(question_vectors, answer_vectors, data):\n",
        "    correct = 0\n",
        "\n",
        "    for question_vector, answer_vector_list, entry in zip(question_vectors, answer_vectors, data):\n",
        "        # Calculate cosine similarity for each answer\n",
        "        max_similarity = -1\n",
        "        predicted_answer = None\n",
        "\n",
        "        for answer_vector, option in zip(answer_vector_list, entry['options']):\n",
        "            similarity = cosine_similarity(question_vector, answer_vector.reshape(1, -1))[0][0]\n",
        "\n",
        "            if similarity > max_similarity:\n",
        "                max_similarity = similarity\n",
        "                predicted_answer = option\n",
        "\n",
        "        # Check if predicted answer is correct\n",
        "        if predicted_answer == entry['options'][entry['correct_index']]:\n",
        "            correct += 1\n",
        "\n",
        "    accuracy = correct / len(data)\n",
        "    return accuracy\n",
        "\n",
        "# Generate BERT context vectors for training and validation sets\n",
        "train_question_vectors_bert, train_answer_vectors_bert = generate_bert_vectors(train_contents)\n",
        "val_question_vectors_bert, val_answer_vectors_bert = generate_bert_vectors(val_contents)\n",
        "\n",
        "# Calculate accuracy for training and validation sets\n",
        "train_accuracy_bert = compute_accuracy_cosine_bert(train_question_vectors_bert, train_answer_vectors_bert, train_contents)\n",
        "val_accuracy_bert = compute_accuracy_cosine_bert(val_question_vectors_bert, val_answer_vectors_bert, val_contents)\n",
        "\n",
        "# Report performance\n",
        "print(f\"Training set accuracy based on cosine similarity with BERT vectors: {round(train_accuracy_bert,3)}\")\n",
        "print(f\"Validation set accuracy based on cosine similarity with BERT vectors: {round(val_accuracy_bert,3)}\")\n"
      ]
    },
    {
      "cell_type": "markdown",
      "metadata": {
        "id": "9c7szE2yRFwJ"
      },
      "source": [
        "# **Q5 - Fine-tuning a transformer model [18 marks]**"
      ]
    },
    {
      "cell_type": "markdown",
      "source": [
        "###**(5.1) Report the accuracy, precision, recall and F1 score of the predictions on the question-option pairs representation of the training and validation sets [10 marks]**"
      ],
      "metadata": {
        "id": "iUhuPo08BQM7"
      }
    },
    {
      "cell_type": "code",
      "execution_count": null,
      "metadata": {
        "id": "5MBbGga_RM-p"
      },
      "outputs": [],
      "source": [
        "import pandas as pd\n",
        "from transformers import BertTokenizer, AutoModelForSequenceClassification, TrainingArguments, Trainer\n",
        "import numpy as np\n",
        "from sklearn.metrics import accuracy_score, precision_recall_fscore_support\n",
        "\n",
        "# Assuming 'data' is your dataset loaded into Python\n",
        "def transform_data(data):\n",
        "    transformed_data = []\n",
        "    for item in data:\n",
        "        question = item['question']\n",
        "        for i, option in enumerate(item['options']):\n",
        "            text = question + \" [SEP] \" + option\n",
        "            label = 1 if i == item['correct_index'] else 0\n",
        "            transformed_data.append({'text': text, 'label': label})\n",
        "    return pd.DataFrame(transformed_data)\n",
        "\n",
        "train_df = transform_data(train_contents)\n",
        "val_df = transform_data(val_contents)\n"
      ]
    },
    {
      "cell_type": "code",
      "execution_count": null,
      "metadata": {
        "id": "UIkOQP18CLj6",
        "colab": {
          "base_uri": "https://localhost:8080/"
        },
        "outputId": "02282b9e-7214-41db-a284-fdcbec506658"
      },
      "outputs": [
        {
          "output_type": "stream",
          "name": "stdout",
          "text": [
            "Requirement already satisfied: datasets in /usr/local/lib/python3.10/dist-packages (2.18.0)\n",
            "Requirement already satisfied: filelock in /usr/local/lib/python3.10/dist-packages (from datasets) (3.13.1)\n",
            "Requirement already satisfied: numpy>=1.17 in /usr/local/lib/python3.10/dist-packages (from datasets) (1.25.2)\n",
            "Requirement already satisfied: pyarrow>=12.0.0 in /usr/local/lib/python3.10/dist-packages (from datasets) (14.0.2)\n",
            "Requirement already satisfied: pyarrow-hotfix in /usr/local/lib/python3.10/dist-packages (from datasets) (0.6)\n",
            "Requirement already satisfied: dill<0.3.9,>=0.3.0 in /usr/local/lib/python3.10/dist-packages (from datasets) (0.3.8)\n",
            "Requirement already satisfied: pandas in /usr/local/lib/python3.10/dist-packages (from datasets) (1.5.3)\n",
            "Requirement already satisfied: requests>=2.19.0 in /usr/local/lib/python3.10/dist-packages (from datasets) (2.31.0)\n",
            "Requirement already satisfied: tqdm>=4.62.1 in /usr/local/lib/python3.10/dist-packages (from datasets) (4.66.2)\n",
            "Requirement already satisfied: xxhash in /usr/local/lib/python3.10/dist-packages (from datasets) (3.4.1)\n",
            "Requirement already satisfied: multiprocess in /usr/local/lib/python3.10/dist-packages (from datasets) (0.70.16)\n",
            "Requirement already satisfied: fsspec[http]<=2024.2.0,>=2023.1.0 in /usr/local/lib/python3.10/dist-packages (from datasets) (2023.6.0)\n",
            "Requirement already satisfied: aiohttp in /usr/local/lib/python3.10/dist-packages (from datasets) (3.9.3)\n",
            "Requirement already satisfied: huggingface-hub>=0.19.4 in /usr/local/lib/python3.10/dist-packages (from datasets) (0.20.3)\n",
            "Requirement already satisfied: packaging in /usr/local/lib/python3.10/dist-packages (from datasets) (23.2)\n",
            "Requirement already satisfied: pyyaml>=5.1 in /usr/local/lib/python3.10/dist-packages (from datasets) (6.0.1)\n",
            "Requirement already satisfied: aiosignal>=1.1.2 in /usr/local/lib/python3.10/dist-packages (from aiohttp->datasets) (1.3.1)\n",
            "Requirement already satisfied: attrs>=17.3.0 in /usr/local/lib/python3.10/dist-packages (from aiohttp->datasets) (23.2.0)\n",
            "Requirement already satisfied: frozenlist>=1.1.1 in /usr/local/lib/python3.10/dist-packages (from aiohttp->datasets) (1.4.1)\n",
            "Requirement already satisfied: multidict<7.0,>=4.5 in /usr/local/lib/python3.10/dist-packages (from aiohttp->datasets) (6.0.5)\n",
            "Requirement already satisfied: yarl<2.0,>=1.0 in /usr/local/lib/python3.10/dist-packages (from aiohttp->datasets) (1.9.4)\n",
            "Requirement already satisfied: async-timeout<5.0,>=4.0 in /usr/local/lib/python3.10/dist-packages (from aiohttp->datasets) (4.0.3)\n",
            "Requirement already satisfied: typing-extensions>=3.7.4.3 in /usr/local/lib/python3.10/dist-packages (from huggingface-hub>=0.19.4->datasets) (4.10.0)\n",
            "Requirement already satisfied: charset-normalizer<4,>=2 in /usr/local/lib/python3.10/dist-packages (from requests>=2.19.0->datasets) (3.3.2)\n",
            "Requirement already satisfied: idna<4,>=2.5 in /usr/local/lib/python3.10/dist-packages (from requests>=2.19.0->datasets) (3.6)\n",
            "Requirement already satisfied: urllib3<3,>=1.21.1 in /usr/local/lib/python3.10/dist-packages (from requests>=2.19.0->datasets) (2.0.7)\n",
            "Requirement already satisfied: certifi>=2017.4.17 in /usr/local/lib/python3.10/dist-packages (from requests>=2.19.0->datasets) (2024.2.2)\n",
            "Requirement already satisfied: python-dateutil>=2.8.1 in /usr/local/lib/python3.10/dist-packages (from pandas->datasets) (2.8.2)\n",
            "Requirement already satisfied: pytz>=2020.1 in /usr/local/lib/python3.10/dist-packages (from pandas->datasets) (2023.4)\n",
            "Requirement already satisfied: six>=1.5 in /usr/local/lib/python3.10/dist-packages (from python-dateutil>=2.8.1->pandas->datasets) (1.16.0)\n",
            "Requirement already satisfied: accelerate in /usr/local/lib/python3.10/dist-packages (0.27.2)\n",
            "Requirement already satisfied: numpy>=1.17 in /usr/local/lib/python3.10/dist-packages (from accelerate) (1.25.2)\n",
            "Requirement already satisfied: packaging>=20.0 in /usr/local/lib/python3.10/dist-packages (from accelerate) (23.2)\n",
            "Requirement already satisfied: psutil in /usr/local/lib/python3.10/dist-packages (from accelerate) (5.9.5)\n",
            "Requirement already satisfied: pyyaml in /usr/local/lib/python3.10/dist-packages (from accelerate) (6.0.1)\n",
            "Requirement already satisfied: torch>=1.10.0 in /usr/local/lib/python3.10/dist-packages (from accelerate) (2.1.0+cu121)\n",
            "Requirement already satisfied: huggingface-hub in /usr/local/lib/python3.10/dist-packages (from accelerate) (0.20.3)\n",
            "Requirement already satisfied: safetensors>=0.3.1 in /usr/local/lib/python3.10/dist-packages (from accelerate) (0.4.2)\n",
            "Requirement already satisfied: filelock in /usr/local/lib/python3.10/dist-packages (from torch>=1.10.0->accelerate) (3.13.1)\n",
            "Requirement already satisfied: typing-extensions in /usr/local/lib/python3.10/dist-packages (from torch>=1.10.0->accelerate) (4.10.0)\n",
            "Requirement already satisfied: sympy in /usr/local/lib/python3.10/dist-packages (from torch>=1.10.0->accelerate) (1.12)\n",
            "Requirement already satisfied: networkx in /usr/local/lib/python3.10/dist-packages (from torch>=1.10.0->accelerate) (3.2.1)\n",
            "Requirement already satisfied: jinja2 in /usr/local/lib/python3.10/dist-packages (from torch>=1.10.0->accelerate) (3.1.3)\n",
            "Requirement already satisfied: fsspec in /usr/local/lib/python3.10/dist-packages (from torch>=1.10.0->accelerate) (2023.6.0)\n",
            "Requirement already satisfied: triton==2.1.0 in /usr/local/lib/python3.10/dist-packages (from torch>=1.10.0->accelerate) (2.1.0)\n",
            "Requirement already satisfied: requests in /usr/local/lib/python3.10/dist-packages (from huggingface-hub->accelerate) (2.31.0)\n",
            "Requirement already satisfied: tqdm>=4.42.1 in /usr/local/lib/python3.10/dist-packages (from huggingface-hub->accelerate) (4.66.2)\n",
            "Requirement already satisfied: MarkupSafe>=2.0 in /usr/local/lib/python3.10/dist-packages (from jinja2->torch>=1.10.0->accelerate) (2.1.5)\n",
            "Requirement already satisfied: charset-normalizer<4,>=2 in /usr/local/lib/python3.10/dist-packages (from requests->huggingface-hub->accelerate) (3.3.2)\n",
            "Requirement already satisfied: idna<4,>=2.5 in /usr/local/lib/python3.10/dist-packages (from requests->huggingface-hub->accelerate) (3.6)\n",
            "Requirement already satisfied: urllib3<3,>=1.21.1 in /usr/local/lib/python3.10/dist-packages (from requests->huggingface-hub->accelerate) (2.0.7)\n",
            "Requirement already satisfied: certifi>=2017.4.17 in /usr/local/lib/python3.10/dist-packages (from requests->huggingface-hub->accelerate) (2024.2.2)\n",
            "Requirement already satisfied: mpmath>=0.19 in /usr/local/lib/python3.10/dist-packages (from sympy->torch>=1.10.0->accelerate) (1.3.0)\n",
            "Requirement already satisfied: transformers in /usr/local/lib/python3.10/dist-packages (4.38.2)\n",
            "Requirement already satisfied: filelock in /usr/local/lib/python3.10/dist-packages (from transformers) (3.13.1)\n",
            "Requirement already satisfied: huggingface-hub<1.0,>=0.19.3 in /usr/local/lib/python3.10/dist-packages (from transformers) (0.20.3)\n",
            "Requirement already satisfied: numpy>=1.17 in /usr/local/lib/python3.10/dist-packages (from transformers) (1.25.2)\n",
            "Requirement already satisfied: packaging>=20.0 in /usr/local/lib/python3.10/dist-packages (from transformers) (23.2)\n",
            "Requirement already satisfied: pyyaml>=5.1 in /usr/local/lib/python3.10/dist-packages (from transformers) (6.0.1)\n",
            "Requirement already satisfied: regex!=2019.12.17 in /usr/local/lib/python3.10/dist-packages (from transformers) (2023.12.25)\n",
            "Requirement already satisfied: requests in /usr/local/lib/python3.10/dist-packages (from transformers) (2.31.0)\n",
            "Requirement already satisfied: tokenizers<0.19,>=0.14 in /usr/local/lib/python3.10/dist-packages (from transformers) (0.15.2)\n",
            "Requirement already satisfied: safetensors>=0.4.1 in /usr/local/lib/python3.10/dist-packages (from transformers) (0.4.2)\n",
            "Requirement already satisfied: tqdm>=4.27 in /usr/local/lib/python3.10/dist-packages (from transformers) (4.66.2)\n",
            "Requirement already satisfied: fsspec>=2023.5.0 in /usr/local/lib/python3.10/dist-packages (from huggingface-hub<1.0,>=0.19.3->transformers) (2023.6.0)\n",
            "Requirement already satisfied: typing-extensions>=3.7.4.3 in /usr/local/lib/python3.10/dist-packages (from huggingface-hub<1.0,>=0.19.3->transformers) (4.10.0)\n",
            "Requirement already satisfied: charset-normalizer<4,>=2 in /usr/local/lib/python3.10/dist-packages (from requests->transformers) (3.3.2)\n",
            "Requirement already satisfied: idna<4,>=2.5 in /usr/local/lib/python3.10/dist-packages (from requests->transformers) (3.6)\n",
            "Requirement already satisfied: urllib3<3,>=1.21.1 in /usr/local/lib/python3.10/dist-packages (from requests->transformers) (2.0.7)\n",
            "Requirement already satisfied: certifi>=2017.4.17 in /usr/local/lib/python3.10/dist-packages (from requests->transformers) (2024.2.2)\n",
            "Requirement already satisfied: transformers[torch] in /usr/local/lib/python3.10/dist-packages (4.38.2)\n",
            "Requirement already satisfied: filelock in /usr/local/lib/python3.10/dist-packages (from transformers[torch]) (3.13.1)\n",
            "Requirement already satisfied: huggingface-hub<1.0,>=0.19.3 in /usr/local/lib/python3.10/dist-packages (from transformers[torch]) (0.20.3)\n",
            "Requirement already satisfied: numpy>=1.17 in /usr/local/lib/python3.10/dist-packages (from transformers[torch]) (1.25.2)\n",
            "Requirement already satisfied: packaging>=20.0 in /usr/local/lib/python3.10/dist-packages (from transformers[torch]) (23.2)\n",
            "Requirement already satisfied: pyyaml>=5.1 in /usr/local/lib/python3.10/dist-packages (from transformers[torch]) (6.0.1)\n",
            "Requirement already satisfied: regex!=2019.12.17 in /usr/local/lib/python3.10/dist-packages (from transformers[torch]) (2023.12.25)\n",
            "Requirement already satisfied: requests in /usr/local/lib/python3.10/dist-packages (from transformers[torch]) (2.31.0)\n",
            "Requirement already satisfied: tokenizers<0.19,>=0.14 in /usr/local/lib/python3.10/dist-packages (from transformers[torch]) (0.15.2)\n",
            "Requirement already satisfied: safetensors>=0.4.1 in /usr/local/lib/python3.10/dist-packages (from transformers[torch]) (0.4.2)\n",
            "Requirement already satisfied: tqdm>=4.27 in /usr/local/lib/python3.10/dist-packages (from transformers[torch]) (4.66.2)\n",
            "Requirement already satisfied: torch in /usr/local/lib/python3.10/dist-packages (from transformers[torch]) (2.1.0+cu121)\n",
            "Requirement already satisfied: accelerate>=0.21.0 in /usr/local/lib/python3.10/dist-packages (from transformers[torch]) (0.27.2)\n",
            "Requirement already satisfied: psutil in /usr/local/lib/python3.10/dist-packages (from accelerate>=0.21.0->transformers[torch]) (5.9.5)\n",
            "Requirement already satisfied: fsspec>=2023.5.0 in /usr/local/lib/python3.10/dist-packages (from huggingface-hub<1.0,>=0.19.3->transformers[torch]) (2023.6.0)\n",
            "Requirement already satisfied: typing-extensions>=3.7.4.3 in /usr/local/lib/python3.10/dist-packages (from huggingface-hub<1.0,>=0.19.3->transformers[torch]) (4.10.0)\n",
            "Requirement already satisfied: sympy in /usr/local/lib/python3.10/dist-packages (from torch->transformers[torch]) (1.12)\n",
            "Requirement already satisfied: networkx in /usr/local/lib/python3.10/dist-packages (from torch->transformers[torch]) (3.2.1)\n",
            "Requirement already satisfied: jinja2 in /usr/local/lib/python3.10/dist-packages (from torch->transformers[torch]) (3.1.3)\n",
            "Requirement already satisfied: triton==2.1.0 in /usr/local/lib/python3.10/dist-packages (from torch->transformers[torch]) (2.1.0)\n",
            "Requirement already satisfied: charset-normalizer<4,>=2 in /usr/local/lib/python3.10/dist-packages (from requests->transformers[torch]) (3.3.2)\n",
            "Requirement already satisfied: idna<4,>=2.5 in /usr/local/lib/python3.10/dist-packages (from requests->transformers[torch]) (3.6)\n",
            "Requirement already satisfied: urllib3<3,>=1.21.1 in /usr/local/lib/python3.10/dist-packages (from requests->transformers[torch]) (2.0.7)\n",
            "Requirement already satisfied: certifi>=2017.4.17 in /usr/local/lib/python3.10/dist-packages (from requests->transformers[torch]) (2024.2.2)\n",
            "Requirement already satisfied: MarkupSafe>=2.0 in /usr/local/lib/python3.10/dist-packages (from jinja2->torch->transformers[torch]) (2.1.5)\n",
            "Requirement already satisfied: mpmath>=0.19 in /usr/local/lib/python3.10/dist-packages (from sympy->torch->transformers[torch]) (1.3.0)\n"
          ]
        }
      ],
      "source": [
        "!pip install datasets\n",
        "!pip install accelerate -U\n",
        "!pip install transformers --upgrade\n",
        "!pip install transformers[torch]"
      ]
    },
    {
      "cell_type": "code",
      "execution_count": null,
      "metadata": {
        "id": "1wheFSLjTPYi",
        "colab": {
          "base_uri": "https://localhost:8080/",
          "height": 446
        },
        "outputId": "4437670a-3101-4e33-a83f-9ebc663b5b78"
      },
      "outputs": [
        {
          "output_type": "stream",
          "name": "stderr",
          "text": [
            "/usr/local/lib/python3.10/dist-packages/huggingface_hub/utils/_token.py:88: UserWarning: \n",
            "The secret `HF_TOKEN` does not exist in your Colab secrets.\n",
            "To authenticate with the Hugging Face Hub, create a token in your settings tab (https://huggingface.co/settings/tokens), set it as secret in your Google Colab and restart your session.\n",
            "You will be able to reuse this secret in all of your notebooks.\n",
            "Please note that authentication is recommended but still optional to access public models or datasets.\n",
            "  warnings.warn(\n",
            "Some weights of BertForSequenceClassification were not initialized from the model checkpoint at bert-base-uncased and are newly initialized: ['classifier.bias', 'classifier.weight']\n",
            "You should probably TRAIN this model on a down-stream task to be able to use it for predictions and inference.\n"
          ]
        },
        {
          "output_type": "stream",
          "name": "stdout",
          "text": [
            "(2964, 2)\n",
            "0\n"
          ]
        },
        {
          "output_type": "stream",
          "name": "stderr",
          "text": [
            "We strongly recommend passing in an `attention_mask` since your input_ids may be padded. See https://huggingface.co/docs/transformers/troubleshooting#incorrect-output-when-padding-tokens-arent-masked.\n"
          ]
        },
        {
          "output_type": "display_data",
          "data": {
            "text/plain": [
              "<IPython.core.display.HTML object>"
            ],
            "text/html": [
              "\n",
              "    <div>\n",
              "      \n",
              "      <progress value='1484' max='1484' style='width:300px; height:20px; vertical-align: middle;'></progress>\n",
              "      [1484/1484 03:55, Epoch 4/4]\n",
              "    </div>\n",
              "    <table border=\"1\" class=\"dataframe\">\n",
              "  <thead>\n",
              " <tr style=\"text-align: left;\">\n",
              "      <th>Epoch</th>\n",
              "      <th>Training Loss</th>\n",
              "      <th>Validation Loss</th>\n",
              "    </tr>\n",
              "  </thead>\n",
              "  <tbody>\n",
              "    <tr>\n",
              "      <td>1</td>\n",
              "      <td>No log</td>\n",
              "      <td>0.487634</td>\n",
              "    </tr>\n",
              "    <tr>\n",
              "      <td>2</td>\n",
              "      <td>0.535400</td>\n",
              "      <td>0.425741</td>\n",
              "    </tr>\n",
              "    <tr>\n",
              "      <td>3</td>\n",
              "      <td>0.456200</td>\n",
              "      <td>0.365266</td>\n",
              "    </tr>\n",
              "    <tr>\n",
              "      <td>4</td>\n",
              "      <td>0.456200</td>\n",
              "      <td>0.339467</td>\n",
              "    </tr>\n",
              "  </tbody>\n",
              "</table><p>"
            ]
          },
          "metadata": {}
        },
        {
          "output_type": "execute_result",
          "data": {
            "text/plain": [
              "TrainOutput(global_step=1484, training_loss=0.46047931475780723, metrics={'train_runtime': 238.054, 'train_samples_per_second': 49.804, 'train_steps_per_second': 6.234, 'total_flos': 389930584043520.0, 'train_loss': 0.46047931475780723, 'epoch': 4.0})"
            ]
          },
          "metadata": {},
          "execution_count": 2
        }
      ],
      "source": [
        "from transformers import set_seed, AutoModelForSequenceClassification\n",
        "import pandas as pd\n",
        "from transformers import AutoTokenizer\n",
        "import numpy as np\n",
        "\n",
        "tokenizer = AutoTokenizer.from_pretrained(\"bert-base-uncased\")\n",
        "\n",
        "set_seed(42)\n",
        "\n",
        "model = AutoModelForSequenceClassification.from_pretrained('bert-base-uncased', num_labels=2)\n",
        "\n",
        "learning_rate = 1e-5\n",
        "batch_size = 8\n",
        "epochs = 4\n",
        "weight_decay = 0\n",
        "\n",
        "def create_question_option_pairs(data):\n",
        "    question_option_pairs = []\n",
        "    for item in data:\n",
        "        question = item[\"question\"]\n",
        "        options = item[\"options\"]\n",
        "        correct_index = item[\"correct_index\"]\n",
        "        for i, option in enumerate(options):\n",
        "            label = 1 if i == correct_index else 0\n",
        "            pair = {\"input_ids\": f\"{question}[SEP]{option}\", \"labels\": label}\n",
        "            pair[\"input_ids\"] = tokenizer.encode(pair[\"input_ids\"],truncation=True, padding='max_length', max_length=64)\n",
        "            question_option_pairs.append(pair)\n",
        "    return question_option_pairs\n",
        "\n",
        "train_df = create_question_option_pairs(train_contents)\n",
        "val_df = create_question_option_pairs(val_contents)\n",
        "\n",
        "train_df = pd.DataFrame(train_df)\n",
        "val_df = pd.DataFrame(val_df)\n",
        "\n",
        "print(train_df.shape)\n",
        "print(train_df[\"labels\"][0])\n",
        "\n",
        "#!pip install accelerate -U\n",
        "#!pip install transformers --upgrade\n",
        "\n",
        "from datasets import Dataset\n",
        "train_dataset = Dataset.from_dict(train_df)\n",
        "val_dataset = Dataset.from_dict(val_df)\n",
        "train_dataset\n",
        "\n",
        "from transformers import TrainingArguments, Trainer\n",
        "\n",
        "training_args = TrainingArguments(\n",
        "    output_dir=\"My_model\",\n",
        "    evaluation_strategy=\"epoch\", # How often we want to evaluate the model\n",
        "    learning_rate=learning_rate, # Hyperparameter\n",
        "    per_device_train_batch_size=batch_size, # Hyperparameter\n",
        "    per_device_eval_batch_size=batch_size, # Hyperparameter\n",
        "    num_train_epochs=epochs, # Hyperparameter\n",
        "    weight_decay=weight_decay, # Hyperparameter\n",
        ")\n",
        "\n",
        "trainer = Trainer(\n",
        "    model=model, # The model you want to train\n",
        "    args=training_args, # The various training arguments set up above\n",
        "    train_dataset=train_dataset, # The data to use to update the weights\n",
        "    eval_dataset=train_dataset, # The data to use for evaluation\n",
        ")\n",
        "\n",
        "trainer.train()"
      ]
    },
    {
      "cell_type": "code",
      "execution_count": null,
      "metadata": {
        "id": "sEzXQTUmT3SG",
        "colab": {
          "base_uri": "https://localhost:8080/",
          "height": 208
        },
        "outputId": "951816f6-3e3d-4b2a-f0ed-1ae0ae2bd773"
      },
      "outputs": [
        {
          "output_type": "display_data",
          "data": {
            "text/plain": [
              "<IPython.core.display.HTML object>"
            ],
            "text/html": []
          },
          "metadata": {}
        },
        {
          "output_type": "display_data",
          "data": {
            "text/plain": [
              "<IPython.core.display.HTML object>"
            ],
            "text/html": []
          },
          "metadata": {}
        },
        {
          "output_type": "stream",
          "name": "stdout",
          "text": [
            "Training set:\n",
            "Accuracy: 0.855\n",
            "Precision:0.693\n",
            "Recall: 0.75\n",
            "F1 Score:0.721\n",
            "\n",
            "Validation set:\n",
            "Accuracy:0.791\n",
            "Precision:0.588\n",
            "Recall: 0.553\n",
            "F1 Score:0.57\n"
          ]
        }
      ],
      "source": [
        "import numpy as np\n",
        "from sklearn.metrics import accuracy_score, precision_score, recall_score, f1_score\n",
        "\n",
        "train_predictions = np.argmax(trainer.predict(train_dataset).predictions, axis=1)\n",
        "val_predictions = np.argmax(trainer.predict(val_dataset).predictions, axis=1)\n",
        "\n",
        "train_ground_truth = train_df[\"labels\"]\n",
        "val_ground_truth = val_df[\"labels\"]\n",
        "\n",
        "train_accuracy = accuracy_score(train_ground_truth, train_predictions)\n",
        "train_precision = precision_score(train_ground_truth, train_predictions)\n",
        "train_recall = recall_score(train_ground_truth, train_predictions)\n",
        "train_f1_score = f1_score(train_ground_truth, train_predictions)\n",
        "\n",
        "val_accuracy = accuracy_score(val_ground_truth, val_predictions)\n",
        "val_precision = precision_score(val_ground_truth, val_predictions)\n",
        "val_recall = recall_score(val_ground_truth, val_predictions)\n",
        "val_f1_score = f1_score(val_ground_truth, val_predictions)\n",
        "\n",
        "print(\"Training set:\")\n",
        "print(f\"Accuracy: {round(train_accuracy,3)}\")\n",
        "print(f\"Precision:{round(train_precision,3)}\" )\n",
        "print(f\"Recall: {round(train_recall,3)}\")\n",
        "print(f\"F1 Score:{round(train_f1_score,3)}\")\n",
        "\n",
        "print(\"\\nValidation set:\")\n",
        "print(f\"Accuracy:{round(val_accuracy,3)}\" )\n",
        "print(f\"Precision:{round(val_precision,3)}\")\n",
        "print(f\"Recall: {round(val_recall,3)}\")\n",
        "print(f\"F1 Score:{round(val_f1_score,3)}\")"
      ]
    },
    {
      "cell_type": "markdown",
      "source": [
        "###**(5.2) Report the accuracy for this method for selecting the correct answer on the training and validation sets of this model. [6 marks]**"
      ],
      "metadata": {
        "id": "6-vRQz-OBe7H"
      }
    },
    {
      "cell_type": "code",
      "execution_count": null,
      "metadata": {
        "id": "jYC8c_UzqNX9",
        "colab": {
          "base_uri": "https://localhost:8080/",
          "height": 52
        },
        "outputId": "99ac5e5a-9184-4413-9527-486a1ed2476e"
      },
      "outputs": [
        {
          "output_type": "display_data",
          "data": {
            "text/plain": [
              "<IPython.core.display.HTML object>"
            ],
            "text/html": []
          },
          "metadata": {}
        },
        {
          "output_type": "display_data",
          "data": {
            "text/plain": [
              "<IPython.core.display.HTML object>"
            ],
            "text/html": []
          },
          "metadata": {}
        },
        {
          "output_type": "stream",
          "name": "stdout",
          "text": [
            "Training set accuracy:0.855\n",
            "Validation set accuracy:0.791\n"
          ]
        }
      ],
      "source": [
        "import numpy as np\n",
        "from sklearn.metrics import accuracy_score\n",
        "\n",
        "train_predictions = np.argmax(trainer.predict(train_dataset).predictions, axis=1)\n",
        "val_predictions = np.argmax(trainer.predict(val_dataset).predictions, axis=1)\n",
        "\n",
        "# Ground truth labels\n",
        "train_ground_truth = train_df[\"labels\"]\n",
        "val_ground_truth = val_df[\"labels\"]\n",
        "\n",
        "# Calculate accuracy\n",
        "train_accuracy = accuracy_score(train_ground_truth, train_predictions)\n",
        "val_accuracy = accuracy_score(val_ground_truth, val_predictions)\n",
        "\n",
        "print(f\"Training set accuracy:{round(train_accuracy,3)}\")\n",
        "print(f\"Validation set accuracy:{round(val_accuracy,3)}\")\n"
      ]
    },
    {
      "cell_type": "markdown",
      "source": [
        "#**Q6 - Test set performance [4 marks]**"
      ],
      "metadata": {
        "id": "wgTj8aF4BwYW"
      }
    },
    {
      "cell_type": "markdown",
      "source": [
        "###**(6.1) Report the accuracy using your best method on the test set. Use the performance on the validation set to select the best method. [2 marks]**"
      ],
      "metadata": {
        "id": "N-jUoZKfB2bx"
      }
    },
    {
      "cell_type": "code",
      "execution_count": null,
      "metadata": {
        "id": "CPbNCJcA0qAK",
        "colab": {
          "base_uri": "https://localhost:8080/",
          "height": 34
        },
        "outputId": "60fc7d6b-86df-455f-f7d1-b9f978d9bb5c"
      },
      "outputs": [
        {
          "output_type": "display_data",
          "data": {
            "text/plain": [
              "<IPython.core.display.HTML object>"
            ],
            "text/html": []
          },
          "metadata": {}
        },
        {
          "output_type": "stream",
          "name": "stdout",
          "text": [
            "Test set accuracy:0.776\n"
          ]
        }
      ],
      "source": [
        "# Assuming test_contents is available and structured like train_contents\n",
        "test_df = create_question_option_pairs(test_contents)\n",
        "test_df = pd.DataFrame(test_df)\n",
        "\n",
        "# Convert the test DataFrame to a Hugging Face Dataset\n",
        "from datasets import Dataset\n",
        "test_dataset = Dataset.from_dict(test_df)\n",
        "\n",
        "# Make predictions on the test set\n",
        "test_predictions = trainer.predict(test_dataset).predictions\n",
        "test_predictions = np.argmax(test_predictions, axis=1)\n",
        "\n",
        "# Extract the ground truth labels\n",
        "test_ground_truth = test_df[\"labels\"].values\n",
        "\n",
        "# Calculate the accuracy on the test set\n",
        "from sklearn.metrics import accuracy_score\n",
        "test_accuracy = accuracy_score(test_ground_truth, test_predictions)\n",
        "\n",
        "print(f\"Test set accuracy:{round(test_accuracy,3)}\")\n"
      ]
    }
  ],
  "metadata": {
    "colab": {
      "provenance": []
    },
    "kernelspec": {
      "display_name": "Python 3",
      "name": "python3"
    },
    "language_info": {
      "name": "python"
    }
  },
  "nbformat": 4,
  "nbformat_minor": 0
}